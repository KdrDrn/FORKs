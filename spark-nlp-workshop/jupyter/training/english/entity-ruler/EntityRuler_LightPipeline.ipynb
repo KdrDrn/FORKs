{
 "cells": [
  {
   "cell_type": "code",
   "execution_count": null,
   "metadata": {
    "id": "1953uewL-Jll"
   },
   "outputs": [],
   "source": [
    "# Install pyspark\n",
    "! pip install --ignore-installed pyspark\n",
    "\n",
    "# Install Spark NLP\n",
    "! pip install --ignore-installed spark-nlp"
   ]
  },
  {
   "cell_type": "markdown",
   "metadata": {
    "id": "P_GiBDlsja-o"
   },
   "source": [
    "This notebook test serialization and LightPipeline for EntityRuler"
   ]
  },
  {
   "cell_type": "code",
   "execution_count": null,
   "metadata": {
    "id": "XLNO3Z9r6HgR"
   },
   "outputs": [],
   "source": [
    "import sparknlp\n",
    "from sparknlp.base import *\n",
    "from sparknlp.annotator import *\n",
    "from pyspark.sql import SparkSession"
   ]
  },
  {
   "cell_type": "code",
   "execution_count": null,
   "metadata": {
    "colab": {
     "base_uri": "https://localhost:8080/"
    },
    "id": "4JfeD8Rj-as2",
    "outputId": "cb7e524b-5ae3-4078-ba1c-e09981a4f0c3"
   },
   "outputs": [
    {
     "name": "stdout",
     "output_type": "stream",
     "text": [
      "Apache Spark version: 3.0.1\n"
     ]
    }
   ],
   "source": [
    "print(\"Spark NLP version\", sparknlp.version())"
   ]
  },
  {
   "cell_type": "code",
   "execution_count": null,
   "metadata": {
    "id": "_eB72Yzg8_Jx"
   },
   "outputs": [],
   "source": [
    "data = spark.createDataFrame([[\"\"]]).toDF(\"text\")"
   ]
  },
  {
   "cell_type": "code",
   "execution_count": null,
   "metadata": {
    "id": "tRyju8D-6XJ1"
   },
   "outputs": [],
   "source": [
    "entity_ruler = EntityRulerApproach() \\\n",
    "    .setInputCols([\"document\", \"token\"]) \\\n",
    "    .setOutputCol(\"entity\") \\\n",
    "    .setPatternsResource(\"sample_data/patterns.json\")\n",
    "\n",
    "entity_ruler_model = entity_ruler.fit(data)\n",
    "entity_ruler_model.write().overwrite().save(\"tmp_entity_ruler_model\")"
   ]
  },
  {
   "cell_type": "code",
   "execution_count": null,
   "metadata": {
    "id": "OqFTxvxRC5aw"
   },
   "outputs": [],
   "source": [
    "entity_ruler_loaded = EntityRulerModel().load(\"tmp_entity_ruler_model\")"
   ]
  },
  {
   "cell_type": "code",
   "execution_count": null,
   "metadata": {
    "id": "jtMK0ZekjSeB"
   },
   "outputs": [],
   "source": [
    "document_assembler = DocumentAssembler().setInputCol(\"text\").setOutputCol(\"document\")\n",
    "tokenizer = Tokenizer() \\\n",
    "  .setInputCols(\"document\") \\\n",
    "  .setOutputCol(\"token\") \\\n",
    "  .setExceptions([\"John Snow\", \"Eddard Stark\"])\n",
    "\n",
    "pipeline = Pipeline(stages=[document_assembler, tokenizer, entity_ruler])\n",
    "pipeline_model = pipeline.fit(data)\n",
    "light_pipeline = LightPipeline(pipeline_model)"
   ]
  },
  {
   "cell_type": "code",
   "execution_count": null,
   "metadata": {
    "colab": {
     "base_uri": "https://localhost:8080/"
    },
    "id": "d7qy0hxlkX3u",
    "outputId": "347cfe29-4e07-47f9-d793-7b991245aef1"
   },
   "outputs": [
    {
     "name": "stdout",
     "output_type": "stream",
     "text": [
      "{'document': ['Lord Eddard Stark was the head of House Stark. John Snow lives in Winterfell.'], 'token': ['Lord', 'Eddard Stark', 'was', 'the', 'head', 'of', 'House', 'Stark', '.', 'John Snow', 'lives', 'in', 'Winterfell', '.'], 'entity': ['Eddard Stark', 'John Snow', 'Winterfell']}\n"
     ]
    }
   ],
   "source": [
    "result = light_pipeline.annotate(\"Lord Eddard Stark was the head of House Stark. John Snow lives in Winterfell.\")\n",
    "print(result)"
   ]
  }
 ],
 "metadata": {
  "colab": {
   "name": "EntityRuler LightPipeline.ipynb",
   "provenance": []
  },
  "kernelspec": {
   "display_name": "Python 3",
   "language": "python",
   "name": "python3"
  },
  "language_info": {
   "codemirror_mode": {
    "name": "ipython",
    "version": 3
   },
   "file_extension": ".py",
   "mimetype": "text/x-python",
   "name": "python",
   "nbconvert_exporter": "python",
   "pygments_lexer": "ipython3",
   "version": "3.8.10"
  }
 },
 "nbformat": 4,
 "nbformat_minor": 1
}
