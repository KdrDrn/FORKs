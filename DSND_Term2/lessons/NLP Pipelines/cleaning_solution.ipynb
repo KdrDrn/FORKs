{
 "cells": [
  {
   "cell_type": "markdown",
   "metadata": {
    "colab_type": "text",
    "id": "8WE-5f42Lo19"
   },
   "source": [
    "# Cleaning Quiz: Udacity's Course Catalog\n",
    "It's your turn! Udacity's [course catalog page](https://www.udacity.com/courses/all) has changed since the last video was filmed. One notable change is the introduction of  _schools_.\n",
    "\n",
    "In this activity, you're going to perform similar actions with BeautifulSoup to extract the following information from each course listing on the page:\n",
    "1. The course name - e.g. \"Data Analyst\"\n",
    "2. The school the course belongs to - e.g. \"School of Data Science\""
   ]
  },
  {
   "cell_type": "markdown",
   "metadata": {
    "colab_type": "text",
    "id": "qgeSC9gZLo1-"
   },
   "source": [
    "### Step 1: Get text from Udacity's course catalog web page\n",
    "You can use the `requests` library to do this.\n",
    "\n",
    "Outputting all the javascript, CSS, and text may overload the space available to load this notebook, so we omit a print statement here."
   ]
  },
  {
   "cell_type": "code",
   "execution_count": 1,
   "metadata": {
    "colab": {},
    "colab_type": "code",
    "id": "Xn7UWaD2Lo1_"
   },
   "outputs": [],
   "source": [
    "# import statements\n",
    "import requests\n",
    "from bs4 import BeautifulSoup"
   ]
  },
  {
   "cell_type": "code",
   "execution_count": 6,
   "metadata": {
    "colab": {},
    "colab_type": "code",
    "id": "0SfMtibnLo2B"
   },
   "outputs": [],
   "source": [
    "# fetch web page\n",
    "# r = requests.get(\"https://www.udacity.com/courses/all\")\n",
    "r = requests.get(\"https://www.udacity.com/catalog\")"
   ]
  },
  {
   "cell_type": "markdown",
   "metadata": {
    "colab_type": "text",
    "id": "iiGyHhQvLo2K"
   },
   "source": [
    "### Step 2: Use BeautifulSoup to remove HTML tags\n",
    "Use `\"lxml\"` rather than `\"html5lib\"`.\n",
    "\n",
    "Again, outputting all the results may overload the space available to load this notebook, so we omit a print statement here."
   ]
  },
  {
   "cell_type": "code",
   "execution_count": 7,
   "metadata": {
    "colab": {},
    "colab_type": "code",
    "id": "lvnUjtlRLo2L"
   },
   "outputs": [],
   "source": [
    "soup = BeautifulSoup(r.text, \"lxml\")"
   ]
  },
  {
   "cell_type": "markdown",
   "metadata": {
    "colab_type": "text",
    "id": "OtuBtrdgLo2P"
   },
   "source": [
    "### Step 3: Find all course summaries\n",
    "Use the BeautifulSoup's `find_all` method to select based on tag type and class name. Just ike in the video, you can right click on the item, and click \"Inspect\" to view its html on a web page."
   ]
  },
  {
   "cell_type": "code",
   "execution_count": 8,
   "metadata": {
    "colab": {
     "base_uri": "https://localhost:8080/",
     "height": 34
    },
    "colab_type": "code",
    "id": "OuXx9mZyLo2Q",
    "outputId": "69aa7852-8fcc-49d6-c52d-6c77d89f0487"
   },
   "outputs": [
    {
     "name": "stdout",
     "output_type": "stream",
     "text": [
      "Number of Courses: 0\n"
     ]
    }
   ],
   "source": [
    "# Find all course summaries\n",
    "summaries = soup.find_all(\"li\", {\"class\":\"catalog-cards__list__item\"})\n",
    "print('Number of Courses:', len(summaries))"
   ]
  },
  {
   "cell_type": "markdown",
   "metadata": {
    "colab_type": "text",
    "id": "Rcit8773Lo2S"
   },
   "source": [
    "### Step 4: Inspect the first summary to find selectors for the course name and school\n",
    "Tip: `.prettify()` is a super helpful method BeautifulSoup provides to output html in a nicely indented form! Make sure to use `print()` to ensure whitespace is displayed properly."
   ]
  },
  {
   "cell_type": "code",
   "execution_count": 9,
   "metadata": {
    "colab": {
     "base_uri": "https://localhost:8080/",
     "height": 1000
    },
    "colab_type": "code",
    "id": "mfD_R8RZLo2T",
    "outputId": "8cdcaf8c-2891-473e-e21b-d9d16bddd1f4"
   },
   "outputs": [
    {
     "ename": "IndexError",
     "evalue": "list index out of range",
     "output_type": "error",
     "traceback": [
      "\u001b[1;31m---------------------------------------------------------------------------\u001b[0m",
      "\u001b[1;31mIndexError\u001b[0m                                Traceback (most recent call last)",
      "Cell \u001b[1;32mIn[9], line 2\u001b[0m\n\u001b[0;32m      1\u001b[0m \u001b[38;5;66;03m# print the first summary in summaries\u001b[39;00m\n\u001b[1;32m----> 2\u001b[0m \u001b[38;5;28mprint\u001b[39m(\u001b[43msummaries\u001b[49m\u001b[43m[\u001b[49m\u001b[38;5;241;43m0\u001b[39;49m\u001b[43m]\u001b[49m\u001b[38;5;241m.\u001b[39mprettify())\n",
      "\u001b[1;31mIndexError\u001b[0m: list index out of range"
     ]
    }
   ],
   "source": [
    "# print the first summary in summaries\n",
    "print(summaries[0].prettify())"
   ]
  },
  {
   "cell_type": "markdown",
   "metadata": {
    "colab_type": "text",
    "id": "ccbqbVQ9Lo2V"
   },
   "source": [
    "Look for selectors contain the the courses title and school name text you want to extract. Then, use the `select_one` method on the summary object to pull out the html with those selectors. Afterwards, don't forget to do some extra cleaning to isolate the names (get rid of unnecessary html), as you saw in the last video."
   ]
  },
  {
   "cell_type": "code",
   "execution_count": 6,
   "metadata": {
    "colab": {
     "base_uri": "https://localhost:8080/",
     "height": 34
    },
    "colab_type": "code",
    "id": "NNMPAGvDLo2V",
    "outputId": "46030654-359b-4b1b-e2ee-098c6a9e4b26"
   },
   "outputs": [
    {
     "data": {
      "text/plain": [
       "'Data Engineer'"
      ]
     },
     "execution_count": 6,
     "metadata": {},
     "output_type": "execute_result"
    }
   ],
   "source": [
    "# Extract course title\n",
    "summaries[0].select_one(\"h2\").get_text().strip()"
   ]
  },
  {
   "cell_type": "code",
   "execution_count": 7,
   "metadata": {
    "colab": {
     "base_uri": "https://localhost:8080/",
     "height": 34
    },
    "colab_type": "code",
    "id": "IOF-lvb3Lo2X",
    "outputId": "16c5bcca-9ebe-417f-b903-a23ed27338bf"
   },
   "outputs": [
    {
     "data": {
      "text/plain": [
       "'School of Data Science'"
      ]
     },
     "execution_count": 7,
     "metadata": {},
     "output_type": "execute_result"
    }
   ],
   "source": [
    "# Extract school\n",
    "summaries[0].select_one(\"h3\").get_text().strip()"
   ]
  },
  {
   "cell_type": "markdown",
   "metadata": {
    "colab_type": "text",
    "id": "ZPVKnBJrLo2Z"
   },
   "source": [
    "### Step 5: Collect names and schools of ALL course listings\n",
    "Reuse your code from the previous step, but now in a loop to extract the name and school from every course summary in `summaries`!"
   ]
  },
  {
   "cell_type": "code",
   "execution_count": 8,
   "metadata": {
    "colab": {},
    "colab_type": "code",
    "id": "pb1YJiHYLo2a"
   },
   "outputs": [],
   "source": [
    "courses = []\n",
    "for summary in summaries:\n",
    "    # append name and school of each summary to courses list\n",
    "    title = summary.select_one(\"h2\").get_text().strip()\n",
    "    school = summary.select_one(\"h3\").get_text().strip()\n",
    "    courses.append((title, school))"
   ]
  },
  {
   "cell_type": "code",
   "execution_count": 9,
   "metadata": {
    "colab": {
     "base_uri": "https://localhost:8080/",
     "height": 370
    },
    "colab_type": "code",
    "id": "bkGCPyxILo2c",
    "outputId": "dc8931f5-3633-4d54-c11f-9511e396d8d8"
   },
   "outputs": [
    {
     "name": "stdout",
     "output_type": "stream",
     "text": [
      "248 course summaries found. Sample:\n"
     ]
    },
    {
     "data": {
      "text/plain": [
       "[('Data Engineer', 'School of Data Science'),\n",
       " ('Data Analyst', 'School of Data Science'),\n",
       " ('Introduction to Programming', 'School of Programming & Development'),\n",
       " ('Deep Learning', 'School of Artificial Intelligence'),\n",
       " ('Full Stack Web Developer', 'School of Programming & Development'),\n",
       " ('UX Designer', 'School of Business'),\n",
       " ('Data Scientist', 'School of Data Science'),\n",
       " ('Business Analytics', 'School of Business'),\n",
       " ('Self Driving Car Engineer', 'School of Autonomous Systems'),\n",
       " ('Programming for Data Science with Python', 'School of Data Science'),\n",
       " ('Machine Learning Engineer', 'School of Artificial Intelligence'),\n",
       " ('C++', 'School of Autonomous Systems'),\n",
       " ('Digital Marketing', 'School of Business'),\n",
       " ('SQL', 'School of Data Science'),\n",
       " ('AI Programming with Python', 'School of Artificial Intelligence'),\n",
       " ('Front End Web Developer', 'School of Programming & Development'),\n",
       " ('AI Product Manager', 'School of Artificial Intelligence'),\n",
       " ('Cloud DevOps Engineer', 'School of Cloud Computing'),\n",
       " ('Artificial Intelligence for Trading', 'School of Artificial Intelligence'),\n",
       " ('DevOps Engineer for Microsoft Azure', 'School of Cloud Computing')]"
      ]
     },
     "execution_count": 9,
     "metadata": {},
     "output_type": "execute_result"
    }
   ],
   "source": [
    "# display results\n",
    "print(len(courses), \"course summaries found. Sample:\")\n",
    "courses[:20]"
   ]
  },
  {
   "cell_type": "code",
   "execution_count": 21,
   "metadata": {},
   "outputs": [
    {
     "name": "stdout",
     "output_type": "stream",
     "text": [
      "Course Names:\n",
      "Data Analyst\n",
      "Introduction to Programming\n",
      "Deep Learning\n",
      "AI Programming with Python\n",
      "Digital Marketing\n",
      "Data Engineering with AWS\n",
      "Business Analytics\n",
      "iOS Developer\n",
      "Programming for Data Science with Python\n",
      "Data Scientist\n",
      "React\n",
      "Product Manager\n",
      "C++\n",
      "Full Stack Web Developer\n",
      "Data Structures and Algorithms\n",
      "Front End Web Developer\n",
      "AI for Trading\n",
      "User Experience\n",
      "Natural Language Processing\n",
      "Computer Vision\n",
      "Cloud DevOps Engineer\n",
      "Cloud Developer\n",
      "Introduction to Self-Driving Cars\n",
      "Deep Reinforcement Learning\n"
     ]
    }
   ],
   "source": [
    "import requests\n",
    "from bs4 import BeautifulSoup\n",
    "\n",
    "# Fetch the webpage content\n",
    "url = \"https://www.udacity.com/catalog\"\n",
    "response = requests.get(url)\n",
    "content = response.content\n",
    "\n",
    "# Parse the HTML content\n",
    "soup = BeautifulSoup(content, \"html.parser\")\n",
    "\n",
    "# Potential elements containing course names (replace with actual class if different)\n",
    "possible_course_elements = soup.find_all(\"a\", class_=\"chakra-heading css-1rsglaw\")\n",
    "\n",
    "# Extract course names (assuming they are within the chosen elements)\n",
    "course_names = []\n",
    "for element in possible_course_elements:\n",
    "  course_names.append(element.text.strip())\n",
    "\n",
    "# Print the course names\n",
    "print(\"Course Names:\")\n",
    "for name in course_names:\n",
    "  print(name)"
   ]
  },
  {
   "cell_type": "code",
   "execution_count": 51,
   "metadata": {},
   "outputs": [
    {
     "name": "stdout",
     "output_type": "stream",
     "text": [
      "Course Names:\n"
     ]
    }
   ],
   "source": [
    "import requests\n",
    "from bs4 import BeautifulSoup\n",
    "\n",
    "# Fetch the webpage content\n",
    "url = \"https://www.autoscout24.com/\"\n",
    "response = requests.get(url)\n",
    "content = response.content\n",
    "\n",
    "# Parse the HTML content\n",
    "soup = BeautifulSoup(content, \"html.parser\")\n",
    "\n",
    "# Potential elements containing course names (replace with actual class if different)\n",
    "possible_course_elements = soup.find_all(\"span\", class_=\"sc-input\")\n",
    "\n",
    "# Extract course names (assuming they are within the chosen elements)\n",
    "course_names = []\n",
    "for element in possible_course_elements:\n",
    "  course_names.append(element.text.strip())\n",
    "\n",
    "# Print the course names\n",
    "print(\"Course Names:\")\n",
    "for name in course_names:\n",
    "  print(name)"
   ]
  },
  {
   "cell_type": "code",
   "execution_count": null,
   "metadata": {},
   "outputs": [],
   "source": []
  }
 ],
 "metadata": {
  "colab": {
   "name": "cleaning_solution (1).ipynb",
   "provenance": []
  },
  "kernelspec": {
   "display_name": "Python 3 (ipykernel)",
   "language": "python",
   "name": "python3"
  },
  "language_info": {
   "codemirror_mode": {
    "name": "ipython",
    "version": 3
   },
   "file_extension": ".py",
   "mimetype": "text/x-python",
   "name": "python",
   "nbconvert_exporter": "python",
   "pygments_lexer": "ipython3",
   "version": "3.9.19"
  }
 },
 "nbformat": 4,
 "nbformat_minor": 1
}
